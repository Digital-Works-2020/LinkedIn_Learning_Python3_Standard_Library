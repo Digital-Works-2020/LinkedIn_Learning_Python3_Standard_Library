{
  "nbformat": 4,
  "nbformat_minor": 0,
  "metadata": {
    "colab": {
      "provenance": []
    },
    "kernelspec": {
      "name": "python3",
      "display_name": "Python 3"
    },
    "language_info": {
      "name": "python"
    }
  },
  "cells": [
    {
      "cell_type": "code",
      "execution_count": 3,
      "metadata": {
        "colab": {
          "base_uri": "https://localhost:8080/"
        },
        "id": "DSaaQQ28RLeR",
        "outputId": "0b7f7882-ed21-46c9-dab3-aeb811108783"
      },
      "outputs": [
        {
          "output_type": "stream",
          "name": "stdout",
          "text": [
            "2025-09-25 05:09:08.897146\n",
            "2025-09-25\n",
            "2025\n",
            "9\n",
            "5\n",
            "9\n",
            "05:09:08.897146\n",
            "8\n"
          ]
        }
      ],
      "source": [
        "from datetime import datetime\n",
        "now = datetime.now() #Get Current Date Time\n",
        "print(now)\n",
        "print(now.date())\n",
        "print(now.year)\n",
        "print(now.month)\n",
        "print(now.hour)\n",
        "print(now.minute)\n",
        "print(now.time())\n",
        "print(now.second)"
      ]
    },
    {
      "cell_type": "code",
      "source": [
        "#%a --> Abbreviated Day\n",
        "#%A --> Full Name of week\n",
        "#%d --> Day of Month\n",
        "print(now.strftime(\"%a %A %d\"))"
      ],
      "metadata": {
        "colab": {
          "base_uri": "https://localhost:8080/"
        },
        "id": "3pMa4rPiRddN",
        "outputId": "e0aad221-2c60-4c13-da2c-160f18d21a93"
      },
      "execution_count": 4,
      "outputs": [
        {
          "output_type": "stream",
          "name": "stdout",
          "text": [
            "Thu Thursday 25\n"
          ]
        }
      ]
    },
    {
      "cell_type": "code",
      "source": [
        "#%b --> Abbreviated Month\n",
        "#%B --> Full Month Name\n",
        "#%m --> Number of Month\n",
        "print(now.strftime(\"%b %B %m\"))"
      ],
      "metadata": {
        "colab": {
          "base_uri": "https://localhost:8080/"
        },
        "id": "Evimr6iISHmY",
        "outputId": "b1c36141-ba74-45e2-c22c-ebe393ac7dbb"
      },
      "execution_count": 5,
      "outputs": [
        {
          "output_type": "stream",
          "name": "stdout",
          "text": [
            "Sep September 09\n"
          ]
        }
      ]
    },
    {
      "cell_type": "code",
      "source": [
        "print(now.strftime(\"%A %B %d\"))"
      ],
      "metadata": {
        "colab": {
          "base_uri": "https://localhost:8080/"
        },
        "id": "NUIjdGPKSeQ9",
        "outputId": "89712742-e5d6-4444-c1cb-6fbbb246ae42"
      },
      "execution_count": 8,
      "outputs": [
        {
          "output_type": "stream",
          "name": "stdout",
          "text": [
            "Thursday September 25\n"
          ]
        }
      ]
    },
    {
      "cell_type": "code",
      "source": [
        "#%H - Hours\n",
        "#%M - Minutes\n",
        "#%S - Seconds\n",
        "#%p - AM / PM\n",
        "print(now.strftime(\"%H : %M : %S %p\"))"
      ],
      "metadata": {
        "colab": {
          "base_uri": "https://localhost:8080/"
        },
        "id": "aW1SMaCNSl1V",
        "outputId": "c50b1686-caf0-4c0f-8a51-ffc08ae10256"
      },
      "execution_count": 13,
      "outputs": [
        {
          "output_type": "stream",
          "name": "stdout",
          "text": [
            "05 : 09 : 08 AM\n"
          ]
        }
      ]
    },
    {
      "cell_type": "code",
      "source": [
        "#%y --> Abbreviated Year\n",
        "#%Y --> Full Year\n",
        "print(now.strftime(\"%y %Y\"))"
      ],
      "metadata": {
        "colab": {
          "base_uri": "https://localhost:8080/"
        },
        "id": "8vRMyxEqS8-P",
        "outputId": "aeffd80f-8394-4d59-9d2a-9e868bf2d16c"
      },
      "execution_count": 14,
      "outputs": [
        {
          "output_type": "stream",
          "name": "stdout",
          "text": [
            "25 2025\n"
          ]
        }
      ]
    },
    {
      "cell_type": "code",
      "source": [
        "from datetime import timedelta\n",
        "\n",
        "futuredate = now + timedelta(days=2)\n",
        "print(futuredate)\n",
        "pastdate = now - timedelta(weeks=1)\n",
        "print(pastdate)\n",
        "if futuredate > pastdate:\n",
        "  print(\"Future is greater than past\")"
      ],
      "metadata": {
        "colab": {
          "base_uri": "https://localhost:8080/"
        },
        "id": "Lmpv0mc3TCVx",
        "outputId": "58be67f2-adb2-4788-d537-a23840e9d5bb"
      },
      "execution_count": 17,
      "outputs": [
        {
          "output_type": "stream",
          "name": "stdout",
          "text": [
            "2025-09-27 05:09:08.897146\n",
            "2025-09-18 05:09:08.897146\n",
            "Future is greater than past\n"
          ]
        }
      ]
    },
    {
      "cell_type": "code",
      "source": [
        "import calendar\n",
        "cal = calendar.month(2025, 9)\n",
        "print(cal)"
      ],
      "metadata": {
        "colab": {
          "base_uri": "https://localhost:8080/"
        },
        "id": "YC9CWeM5UfIR",
        "outputId": "42345621-fb3e-4415-90c5-5ae3725dd873"
      },
      "execution_count": 20,
      "outputs": [
        {
          "output_type": "stream",
          "name": "stdout",
          "text": [
            "   September 2025\n",
            "Mo Tu We Th Fr Sa Su\n",
            " 1  2  3  4  5  6  7\n",
            " 8  9 10 11 12 13 14\n",
            "15 16 17 18 19 20 21\n",
            "22 23 24 25 26 27 28\n",
            "29 30\n",
            "\n"
          ]
        }
      ]
    },
    {
      "cell_type": "code",
      "source": [
        "cal2 = calendar.weekday(2025, 9, 25)\n",
        "print(cal2) #3 ==> Thursday"
      ],
      "metadata": {
        "colab": {
          "base_uri": "https://localhost:8080/"
        },
        "id": "R-1qSFoMUu5Q",
        "outputId": "3c1b4036-f36c-40ab-8b93-45fefa87e73e"
      },
      "execution_count": 21,
      "outputs": [
        {
          "output_type": "stream",
          "name": "stdout",
          "text": [
            "3\n"
          ]
        }
      ]
    },
    {
      "cell_type": "code",
      "source": [
        "print(calendar.isleap(2025)) #False\n",
        "print(calendar.isleap(2000)) #True\n"
      ],
      "metadata": {
        "colab": {
          "base_uri": "https://localhost:8080/"
        },
        "id": "GR79kKXDU2T3",
        "outputId": "7fbe32e2-2d9d-4977-e931-fd99cfc3b937"
      },
      "execution_count": 24,
      "outputs": [
        {
          "output_type": "stream",
          "name": "stdout",
          "text": [
            "False\n",
            "True\n"
          ]
        }
      ]
    },
    {
      "cell_type": "code",
      "source": [
        "import time\n",
        "run = input(\"Start? >\")\n",
        "seconds = 0\n",
        "if run == \"yes\":\n",
        "  while seconds != 10:\n",
        "    print(\">\", seconds+1)\n",
        "    time.sleep(1)\n",
        "    seconds += 1"
      ],
      "metadata": {
        "colab": {
          "base_uri": "https://localhost:8080/"
        },
        "id": "xrB2OStXVEHR",
        "outputId": "b66b1ea8-d65e-41b0-ef3f-2042e1b7348a"
      },
      "execution_count": 26,
      "outputs": [
        {
          "output_type": "stream",
          "name": "stdout",
          "text": [
            "Start? >yes\n",
            "> 1\n",
            "> 2\n",
            "> 3\n",
            "> 4\n",
            "> 5\n",
            "> 6\n",
            "> 7\n",
            "> 8\n",
            "> 9\n",
            "> 10\n"
          ]
        }
      ]
    },
    {
      "cell_type": "code",
      "source": [
        "from html.parser import HTMLParser\n",
        "\n",
        "class MyHTMLParser(HTMLParser):\n",
        "  pass\n",
        "\n",
        "parser = MyHTMLParser()\n",
        "parser.feed(\"<html><head><title>HTML Title</title></head><body><h1><!---Test comment-></h1></body></html>\") #Nothing\n",
        "\n",
        "class MyHTMLParser1(HTMLParser):\n",
        "  def handle_starttag(self, tag, attrs):\n",
        "    print(f\"Start Tag: {tag}\")\n",
        "    for attr in attrs:\n",
        "      print(f\"Attr: {attr}\")\n",
        "  def handle_endtag(self, tag):\n",
        "    print(f\"End Tag: {tag}\")\n",
        "  def handle_comment(self, data):\n",
        "    print(f\"Comment: {data}\")\n",
        "  def handle_data(self, data):\n",
        "    print(f\"Data: {data}\")\n",
        "parser = MyHTMLParser1()\n",
        "parser.feed(\"<html><head><title>HTML Title</title></head><body><h1><!--Test comment--></h1></body></html>\")\n"
      ],
      "metadata": {
        "colab": {
          "base_uri": "https://localhost:8080/"
        },
        "id": "zOkIoYtBVkt2",
        "outputId": "b5822afe-4a6c-43fd-91a0-27c741c058d2"
      },
      "execution_count": 32,
      "outputs": [
        {
          "output_type": "stream",
          "name": "stdout",
          "text": [
            "Start Tag: html\n",
            "Start Tag: head\n",
            "Start Tag: title\n",
            "Data: HTML Title\n",
            "End Tag: title\n",
            "End Tag: head\n",
            "Start Tag: body\n",
            "Start Tag: h1\n",
            "Comment: Test comment\n",
            "End Tag: h1\n",
            "End Tag: body\n",
            "End Tag: html\n"
          ]
        }
      ]
    },
    {
      "cell_type": "code",
      "source": [
        "import textwrap\n",
        "websiteText = \"\"\"      Learning can happen anywhere with our apps on your computer,\n",
        "mobile device and TV, featuring enhanced navigation & faster streaming for anytime learning. Limitless learning, limitless possibilities.  \"\"\"\n",
        "print(\"No Dedent:\")\n",
        "print(textwrap.fill(websiteText))\n",
        "print(\"Dedent:\")\n",
        "print(textwrap.dedent(websiteText))\n",
        "print(\"Fill 50:\")\n",
        "print(textwrap.fill(websiteText.strip(), width=50))\n",
        "print(\"Fill 100:\")\n",
        "print(textwrap.fill(websiteText.strip(), width=100))\n",
        "print(\"Fill Initial Indent:\")\n",
        "print(textwrap.fill(websiteText.strip(), width=100, initial_indent=\"   \", subsequent_indent=\"\"))\n",
        "print(\"Fill Initial Indent & Subsequent Indent:\")\n",
        "print(textwrap.fill(websiteText.strip(), width=100, initial_indent=\"   \", subsequent_indent=\"  \"))\n",
        "print(\"Shortening Text:\")\n",
        "print(textwrap.shorten(websiteText.strip(), width=15, placeholder=\"...\"))"
      ],
      "metadata": {
        "colab": {
          "base_uri": "https://localhost:8080/"
        },
        "id": "hvaHp_i0YCmU",
        "outputId": "d3e977b5-bbb4-44b8-f22d-7b2c2f84e94d"
      },
      "execution_count": 47,
      "outputs": [
        {
          "output_type": "stream",
          "name": "stdout",
          "text": [
            "No Dedent:\n",
            "      Learning can happen anywhere with our apps on your computer,\n",
            "mobile device and TV, featuring enhanced navigation & faster streaming\n",
            "for anytime learning. Limitless learning, limitless possibilities.\n",
            "Dedent:\n",
            "      Learning can happen anywhere with our apps on your computer, \n",
            "mobile device and TV, featuring enhanced navigation & faster streaming for anytime learning. Limitless learning, limitless possibilities.  \n",
            "Fill 50:\n",
            "Learning can happen anywhere with our apps on your\n",
            "computer,  mobile device and TV, featuring\n",
            "enhanced navigation & faster streaming for anytime\n",
            "learning. Limitless learning, limitless\n",
            "possibilities.\n",
            "Fill 100:\n",
            "Learning can happen anywhere with our apps on your computer,  mobile device and TV, featuring\n",
            "enhanced navigation & faster streaming for anytime learning. Limitless learning, limitless\n",
            "possibilities.\n",
            "Fill Initial Indent:\n",
            "   Learning can happen anywhere with our apps on your computer,  mobile device and TV, featuring\n",
            "enhanced navigation & faster streaming for anytime learning. Limitless learning, limitless\n",
            "possibilities.\n",
            "Fill Initial Indent & Subsequent Indent:\n",
            "   Learning can happen anywhere with our apps on your computer,  mobile device and TV, featuring\n",
            "  enhanced navigation & faster streaming for anytime learning. Limitless learning, limitless\n",
            "  possibilities.\n",
            "Shortening Text:\n",
            "Learning can...\n"
          ]
        }
      ]
    },
    {
      "cell_type": "code",
      "source": [
        "import urllib.request\n",
        "import textwrap\n",
        "\n",
        "with urllib.request.urlopen(\"https://www.googleapis.com/books/v1/volumes?q=isbn:1101904224\") as f:\n",
        "  text = f.read()\n",
        "  decode_text = text.decode('utf-8')\n",
        "  #print(textwrap.fill(decode_text, width=50))\n",
        "\n",
        "import json\n",
        "obj = json.loads(decode_text)\n",
        "print(obj['kind'])"
      ],
      "metadata": {
        "colab": {
          "base_uri": "https://localhost:8080/"
        },
        "id": "sMHIzhg86tCy",
        "outputId": "9ba0f893-1f0e-4ee1-afaf-5861769d835b"
      },
      "execution_count": 2,
      "outputs": [
        {
          "output_type": "stream",
          "name": "stdout",
          "text": [
            "books#volumes\n"
          ]
        }
      ]
    },
    {
      "cell_type": "code",
      "source": [
        "from fractions import Fraction\n",
        "f1 = Fraction(1, 2)\n",
        "f2 = Fraction(1, 3)\n",
        "add = f1 + f2\n",
        "print(add.numerator,add.denominator)"
      ],
      "metadata": {
        "colab": {
          "base_uri": "https://localhost:8080/"
        },
        "id": "EW3ZN2m-F_kI",
        "outputId": "642e28cd-6389-4206-bcd5-d027c690a6da"
      },
      "execution_count": 3,
      "outputs": [
        {
          "output_type": "stream",
          "name": "stdout",
          "text": [
            "5 6\n"
          ]
        }
      ]
    }
  ]
}