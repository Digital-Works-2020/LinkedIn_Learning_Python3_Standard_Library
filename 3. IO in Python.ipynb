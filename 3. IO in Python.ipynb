{
  "nbformat": 4,
  "nbformat_minor": 0,
  "metadata": {
    "colab": {
      "provenance": []
    },
    "kernelspec": {
      "name": "python3",
      "display_name": "Python 3"
    },
    "language_info": {
      "name": "python"
    }
  },
  "cells": [
    {
      "cell_type": "code",
      "execution_count": 1,
      "metadata": {
        "colab": {
          "base_uri": "https://localhost:8080/"
        },
        "id": "2tphiwKzNHt9",
        "outputId": "db1f22f7-73e4-4c2a-944a-f072bc8512d3"
      },
      "outputs": [
        {
          "output_type": "stream",
          "name": "stdout",
          "text": [
            "Number of arguments: 3 arguments.\n",
            "Argument List: ['/usr/local/lib/python3.12/dist-packages/colab_kernel_launcher.py', '-f', '/root/.local/share/jupyter/runtime/kernel-e52994b7-31c5-4425-bfac-dfbd43e812f3.json']\n",
            "Arguments after removing file name: ['-f', '/root/.local/share/jupyter/runtime/kernel-e52994b7-31c5-4425-bfac-dfbd43e812f3.json']\n",
            "Sum of all arguments: 0\n"
          ]
        }
      ],
      "source": [
        "#Command Line Arguments\n",
        "import sys\n",
        "print(\"Number of arguments:\", len(sys.argv), \"arguments.\")\n",
        "print(\"Argument List:\", str(sys.argv))\n",
        "\n",
        "#Remove First argument which is the file name\n",
        "args = sys.argv[1:]\n",
        "print(\"Arguments after removing file name:\", args)\n",
        "\n",
        "#Sum of all arguments\n",
        "total = 0\n",
        "for arg in args:\n",
        "    try:\n",
        "        total += int(arg)\n",
        "    except ValueError:\n",
        "        continue\n",
        "print(\"Sum of all arguments:\", total)"
      ]
    },
    {
      "cell_type": "code",
      "source": [
        "#Input from User\n",
        "print(\"Welcome User!!\")\n",
        "movie = input(\"What is your favorite movie?:\").strip()\n",
        "print(movie)"
      ],
      "metadata": {
        "id": "4ZG6N5pvRrDd"
      },
      "execution_count": null,
      "outputs": []
    },
    {
      "cell_type": "code",
      "source": [
        "#Open file for writing\n",
        "f = open('scores.txt', 'w')\n",
        "\n",
        "print(\"Name of file:\", f.name)\n",
        "print(\"Mode of opened file:\", f.mode)\n",
        "\n",
        "#Write to file\n",
        "f.write(\"GBJ: 100\\nKHD:99\\nBBB:89\")\n",
        "\n",
        "#Close the file\n",
        "f.close()\n",
        "\n",
        "#Read the file\n",
        "f = open('scores.txt', 'r')\n",
        "\n",
        "#Read Entire content\n",
        "content = f.read()\n",
        "print(content)\n",
        "\n",
        "# Reset pointer to start\n",
        "f.seek(0)\n",
        "\n",
        "#Read 10 Characters & reset pointer\n",
        "print(f.read(10))\n",
        "f.seek(0)\n",
        "\n",
        "#Read one line\n",
        "print(f.readline())\n",
        "f.seek(0)\n",
        "\n",
        "#Iterate over lines\n",
        "for line in f:\n",
        "    print(line.strip())\n",
        "\n",
        "#Close the file\n",
        "f.close()"
      ],
      "metadata": {
        "id": "fPEuAXZgSVbd"
      },
      "execution_count": null,
      "outputs": []
    },
    {
      "cell_type": "code",
      "source": [
        "import tempfile\n",
        "import time\n",
        "#Create a temporary file\n",
        "print(tempfile.gettempdir()) #Get temporary file directory\n",
        "tempFile = tempfile.TemporaryFile()\n",
        "\n",
        "#Print temporary file name\n",
        "print(tempFile.name)\n",
        "time.sleep(600)\n",
        "\n",
        "#Write to temporary file\n",
        "tempFile.write(b\"Save this Special Number: 970511\")\n",
        "tempFile.seek(0)\n",
        "\n",
        "#Read from temporary file\n",
        "print(tempFile.read())\n",
        "\n",
        "\n",
        "#Close temporary file\n",
        "tempFile.close()\n"
      ],
      "metadata": {
        "id": "lMjjN7vFZgqA"
      },
      "execution_count": null,
      "outputs": []
    },
    {
      "cell_type": "code",
      "source": [
        "import zipfile\n",
        "\n",
        "#Open & List\n",
        "zipobj = zipfile.ZipFile('Archive.zip', 'r')\n",
        "print(zipobj.namelist())\n",
        "\n",
        "#Metadata in zip folder\n",
        "for info in zipobj.infolist():\n",
        "    print(f\"File Name: {info.filename}\")\n",
        "    print(f\"File Size: {info.file_size}\")\n",
        "    print(f\"Compressed Size: {info.compress_size}\")\n",
        "    print(f\"Last Modified: {info.date_time}\")\n",
        "    print(f\"Compression Type: {info.compress_type}\")\n",
        "\n",
        "#Access files\n",
        "print(zipobj.read('scores.txt'))\n",
        "print(zipobj.read('games.txt'))\n",
        "\n",
        "#Extract the files\n",
        "#zipobj.extract(\"scores.txt\")\n",
        "zipobj.extractall()\n",
        "\n",
        "#Close zip\n",
        "zipobj.close()"
      ],
      "metadata": {
        "id": "F-2HQhrwdPEU"
      },
      "execution_count": null,
      "outputs": []
    }
  ]
}