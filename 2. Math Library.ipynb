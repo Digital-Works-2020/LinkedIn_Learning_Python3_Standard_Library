{
  "nbformat": 4,
  "nbformat_minor": 0,
  "metadata": {
    "colab": {
      "provenance": []
    },
    "kernelspec": {
      "name": "python3",
      "display_name": "Python 3"
    },
    "language_info": {
      "name": "python"
    }
  },
  "cells": [
    {
      "cell_type": "code",
      "execution_count": 1,
      "metadata": {
        "colab": {
          "base_uri": "https://localhost:8080/"
        },
        "id": "G1ocnzI_N0TB",
        "outputId": "68e985e7-61ab-4700-8e7b-89ad93e1c5b7"
      },
      "outputs": [
        {
          "output_type": "stream",
          "name": "stdout",
          "text": [
            "3.141592653589793\n",
            "2.718281828459045\n"
          ]
        }
      ],
      "source": [
        "import math\n",
        "#Constants Pi & Exponential E\n",
        "print(math.pi) #3.141592653589793\n",
        "print(math.e) #2.718281828459045"
      ]
    },
    {
      "cell_type": "code",
      "source": [
        "#Printing Infinity\n",
        "print(math.inf)  #inf\n",
        "print(-math.inf) #-inf"
      ],
      "metadata": {
        "colab": {
          "base_uri": "https://localhost:8080/"
        },
        "id": "NnQlYg5sOB3-",
        "outputId": "a5aa11c3-6c40-4e84-82cc-4c9acbc569f9"
      },
      "execution_count": 2,
      "outputs": [
        {
          "output_type": "stream",
          "name": "stdout",
          "text": [
            "inf\n",
            "-inf\n"
          ]
        }
      ]
    },
    {
      "cell_type": "code",
      "source": [
        "#Sine & Cosine\n",
        "print(math.sin(math.pi/4)) #0.7071067811865475\n",
        "print(math.cos(math.pi/4)) #0.7071067811865475"
      ],
      "metadata": {
        "colab": {
          "base_uri": "https://localhost:8080/"
        },
        "id": "p6j0Bvk32tdh",
        "outputId": "29579763-78c3-41c3-8cf0-dc8441c41ac8"
      },
      "execution_count": 3,
      "outputs": [
        {
          "output_type": "stream",
          "name": "stdout",
          "text": [
            "0.7071067811865475\n",
            "0.7071067811865476\n"
          ]
        }
      ]
    },
    {
      "cell_type": "code",
      "source": [
        "#Cieling & Floor\n",
        "print(math.ceil(10.3)) #11\n",
        "print(math.floor(10.3)) #10"
      ],
      "metadata": {
        "colab": {
          "base_uri": "https://localhost:8080/"
        },
        "id": "vsAzHAYH3Ext",
        "outputId": "87397dac-18f9-43ba-e617-0f6666fb4d84"
      },
      "execution_count": 4,
      "outputs": [
        {
          "output_type": "stream",
          "name": "stdout",
          "text": [
            "11\n",
            "10\n"
          ]
        }
      ]
    },
    {
      "cell_type": "code",
      "source": [
        "#Factorial & Square Root\n",
        "print(math.factorial(5)) #120\n",
        "print(math.sqrt(256)) #16.0"
      ],
      "metadata": {
        "colab": {
          "base_uri": "https://localhost:8080/"
        },
        "id": "ikUmKl8_3N2X",
        "outputId": "cd522b81-8a5c-4309-c64b-ad5b74ed96ea"
      },
      "execution_count": 5,
      "outputs": [
        {
          "output_type": "stream",
          "name": "stdout",
          "text": [
            "120\n",
            "16.0\n"
          ]
        }
      ]
    },
    {
      "cell_type": "code",
      "source": [
        "#GCD\n",
        "print(math.gcd(8,52)) #4\n",
        "print(math.gcd(52,8)) #4"
      ],
      "metadata": {
        "colab": {
          "base_uri": "https://localhost:8080/"
        },
        "id": "6dnBGPxG3m4X",
        "outputId": "5fc59f68-db4d-4e06-f8d7-0208ccd94079"
      },
      "execution_count": 6,
      "outputs": [
        {
          "output_type": "stream",
          "name": "stdout",
          "text": [
            "4\n",
            "4\n"
          ]
        }
      ]
    },
    {
      "cell_type": "code",
      "source": [
        "#Degrees & Radians Conversions\n",
        "print(math.radians(360)) #6.283185307179586\n",
        "print(math.pi * 2) #6.283185307179586\n",
        "#360 Degress = 2Pi\n",
        "print(math.degrees(math.pi * 2)) #360.0\n",
        "#2Pi Radians = 360 Degrees"
      ],
      "metadata": {
        "colab": {
          "base_uri": "https://localhost:8080/"
        },
        "id": "3qfnOU6C4AMb",
        "outputId": "36fa7a55-6376-40bb-999f-9766b837cb5d"
      },
      "execution_count": 7,
      "outputs": [
        {
          "output_type": "stream",
          "name": "stdout",
          "text": [
            "6.283185307179586\n",
            "6.283185307179586\n",
            "360.0\n"
          ]
        }
      ]
    },
    {
      "cell_type": "code",
      "source": [
        "#Random Module\n",
        "import random\n",
        "\n",
        "#Random Numbers\n",
        "print(random.random()) #Between 0 & 1\n",
        "print(random.randrange(5)) #Between 0 & 5 not includes 5\n",
        "print(random.randrange(100,105)) #Between 100 & 105 not includes 105\n",
        "\n",
        "#Random Choices\n",
        "print(random.sample(range(100),5)) #List of 5 Random Numbers from 0-100 not includes 100\n",
        "print(random.choice([\"Cat\", \"Dog\", \"Fish\"])) #Pick one value from Iterable\n",
        "print(random.choice((\"Cat\", \"Dog\", \"Fish\"))) #Pick one value from Iterable\n"
      ],
      "metadata": {
        "colab": {
          "base_uri": "https://localhost:8080/"
        },
        "id": "wA2A2F8N4S3I",
        "outputId": "7d8a4a53-17c3-46bf-f15c-222b24be95ca"
      },
      "execution_count": 8,
      "outputs": [
        {
          "output_type": "stream",
          "name": "stdout",
          "text": [
            "0.4110752062042211\n",
            "2\n",
            "102\n",
            "[32, 84, 47, 46, 6]\n",
            "Dog\n",
            "Fish\n"
          ]
        }
      ]
    },
    {
      "cell_type": "code",
      "source": [
        "#Statistics\n",
        "import statistics\n",
        "\n",
        "ages = [10, 13, 14, 11, 12, 11, 10, 15, 12 ]\n",
        "print(statistics.mean(ages)) #12\n",
        "print(statistics.median(ages)) #12\n",
        "print(statistics.mode(ages)) #10\n",
        "print(statistics.variance(ages)) #3\n",
        "print(statistics.stdev(ages)) #1.7320508075688772 - Standard Deviation(Square root of Variance)\n",
        "print(math.sqrt(3)) #1.7320508075688772\n"
      ],
      "metadata": {
        "colab": {
          "base_uri": "https://localhost:8080/"
        },
        "id": "tOwp4s5O6AZm",
        "outputId": "3f7b8511-8a95-4e23-8a55-1d2650f72aa0"
      },
      "execution_count": 9,
      "outputs": [
        {
          "output_type": "stream",
          "name": "stdout",
          "text": [
            "12\n",
            "12\n",
            "10\n",
            "3\n",
            "1.7320508075688772\n",
            "1.7320508075688772\n"
          ]
        }
      ]
    },
    {
      "cell_type": "code",
      "source": [
        "#Itertools\n",
        "import itertools\n",
        "\n",
        "#Infinite Counting\n",
        "for x in itertools.count(50): #Prints from 50-55\n",
        "  print(x)\n",
        "  if x == 55:\n",
        "    break;\n",
        "for x in itertools.count(50, 5): #Prints from 50-80 with Step count of 5\n",
        "  print(x)\n",
        "  if x == 80:\n",
        "    break;"
      ],
      "metadata": {
        "colab": {
          "base_uri": "https://localhost:8080/"
        },
        "id": "eM0KcoSe7EeT",
        "outputId": "f4f90998-a44b-4337-a4c7-43cfc58dc5e0"
      },
      "execution_count": 10,
      "outputs": [
        {
          "output_type": "stream",
          "name": "stdout",
          "text": [
            "50\n",
            "51\n",
            "52\n",
            "53\n",
            "54\n",
            "55\n",
            "50\n",
            "55\n",
            "60\n",
            "65\n",
            "70\n",
            "75\n",
            "80\n"
          ]
        }
      ]
    },
    {
      "cell_type": "code",
      "source": [
        "#Infinite Cycling\n",
        "x = 0\n",
        "for c in itertools.cycle(\"RACECAR\"): #Prints one letter by letter infinite\n",
        "  print(c)\n",
        "  x = x+1\n",
        "  if x == len(\"RACECAR\"):\n",
        "    break"
      ],
      "metadata": {
        "colab": {
          "base_uri": "https://localhost:8080/"
        },
        "id": "XV_DPFRY8JoQ",
        "outputId": "ae24e217-8fcd-437e-d0bf-f48d4eb4bcb3"
      },
      "execution_count": 11,
      "outputs": [
        {
          "output_type": "stream",
          "name": "stdout",
          "text": [
            "R\n",
            "A\n",
            "C\n",
            "E\n",
            "C\n",
            "A\n",
            "R\n"
          ]
        }
      ]
    },
    {
      "cell_type": "code",
      "source": [
        "#Infinite Repeating\n",
        "x = 0\n",
        "for r in itertools.repeat(True):#Prints True Infinite\n",
        "  print(r)\n",
        "  x = x + 1\n",
        "  if x == 5:\n",
        "    break"
      ],
      "metadata": {
        "colab": {
          "base_uri": "https://localhost:8080/"
        },
        "id": "F9vcHPEj8fTN",
        "outputId": "1273a27d-c546-4f74-d784-5019cba6c8f6"
      },
      "execution_count": 12,
      "outputs": [
        {
          "output_type": "stream",
          "name": "stdout",
          "text": [
            "True\n",
            "True\n",
            "True\n",
            "True\n",
            "True\n"
          ]
        }
      ]
    },
    {
      "cell_type": "code",
      "source": [
        "#Permutations\n",
        "for x in itertools.permutations([1,2,3]):#In case of Dictionary, it applies permutations of key\n",
        "  print(x)\n",
        "\n",
        "#Combintations\n",
        "for x in itertools.combinations([1,2,3],2):#In case of Dictionary, it applies permutations of key\n",
        "  print(x)\n",
        "\n"
      ],
      "metadata": {
        "colab": {
          "base_uri": "https://localhost:8080/"
        },
        "id": "tN-_oamz9vYh",
        "outputId": "cb120676-a6c0-4953-c74a-f037b9a23409"
      },
      "execution_count": 13,
      "outputs": [
        {
          "output_type": "stream",
          "name": "stdout",
          "text": [
            "(1, 2, 3)\n",
            "(1, 3, 2)\n",
            "(2, 1, 3)\n",
            "(2, 3, 1)\n",
            "(3, 1, 2)\n",
            "(3, 2, 1)\n",
            "(1, 2)\n",
            "(1, 3)\n",
            "(2, 3)\n"
          ]
        }
      ]
    }
  ]
}