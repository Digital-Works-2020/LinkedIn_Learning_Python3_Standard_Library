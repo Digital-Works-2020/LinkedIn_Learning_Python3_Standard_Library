{
  "nbformat": 4,
  "nbformat_minor": 0,
  "metadata": {
    "colab": {
      "provenance": []
    },
    "kernelspec": {
      "name": "python3",
      "display_name": "Python 3"
    },
    "language_info": {
      "name": "python"
    }
  },
  "cells": [
    {
      "cell_type": "code",
      "execution_count": 1,
      "metadata": {
        "colab": {
          "base_uri": "https://localhost:8080/"
        },
        "id": "tFtZP_nRs1BR",
        "outputId": "7e1e1b24-ab87-4cf4-cd05-c0bbdd7e090b"
      },
      "outputs": [
        {
          "output_type": "stream",
          "name": "stdout",
          "text": [
            "True\n"
          ]
        }
      ],
      "source": [
        "# True is 1 and False is 0\n",
        "print(True > False) #Results true"
      ]
    },
    {
      "cell_type": "code",
      "source": [
        "print(\"Mani\" > \"Ramya\") #M ASCII Lower than R. Results False"
      ],
      "metadata": {
        "colab": {
          "base_uri": "https://localhost:8080/"
        },
        "id": "HZX8QZumtLRd",
        "outputId": "f87dd749-a565-4ba7-c941-d437c4622041"
      },
      "execution_count": 2,
      "outputs": [
        {
          "output_type": "stream",
          "name": "stdout",
          "text": [
            "False\n"
          ]
        }
      ]
    },
    {
      "cell_type": "code",
      "source": [
        "name = \"Ramya\"\n",
        "print(len(name)) #5"
      ],
      "metadata": {
        "colab": {
          "base_uri": "https://localhost:8080/"
        },
        "id": "hF1BryBy3BAk",
        "outputId": "4b12828a-574c-4368-b9e6-765fb8f9a870"
      },
      "execution_count": 3,
      "outputs": [
        {
          "output_type": "stream",
          "name": "stdout",
          "text": [
            "5\n"
          ]
        }
      ]
    },
    {
      "cell_type": "code",
      "source": [
        "name.__len__()"
      ],
      "metadata": {
        "colab": {
          "base_uri": "https://localhost:8080/"
        },
        "id": "LbtImFuA3S9j",
        "outputId": "a6f0930f-358b-40a9-ae00-402cf320ff2e"
      },
      "execution_count": 4,
      "outputs": [
        {
          "output_type": "execute_result",
          "data": {
            "text/plain": [
              "5"
            ]
          },
          "metadata": {},
          "execution_count": 4
        }
      ]
    },
    {
      "cell_type": "code",
      "source": [
        "ages = [2, 10, 18, 80, 1]\n",
        "print(len(ages)) #5"
      ],
      "metadata": {
        "colab": {
          "base_uri": "https://localhost:8080/"
        },
        "id": "p7Ikfz0M3f2i",
        "outputId": "75789309-00ac-42e2-91fa-d8d47b47fabd"
      },
      "execution_count": 5,
      "outputs": [
        {
          "output_type": "stream",
          "name": "stdout",
          "text": [
            "5\n"
          ]
        }
      ]
    },
    {
      "cell_type": "code",
      "source": [
        "for i in range(0, len(ages)):\n",
        "  print(ages[i])"
      ],
      "metadata": {
        "colab": {
          "base_uri": "https://localhost:8080/"
        },
        "id": "ckocpjuX3kc9",
        "outputId": "36a206e7-ee05-4bc8-88bc-4d896d15bc9d"
      },
      "execution_count": 6,
      "outputs": [
        {
          "output_type": "stream",
          "name": "stdout",
          "text": [
            "2\n",
            "10\n",
            "18\n",
            "80\n",
            "1\n"
          ]
        }
      ]
    },
    {
      "cell_type": "code",
      "source": [
        "d = {\"a\": 1, \"b\" : 2, \"c\":3}\n",
        "print(len(d)) #3"
      ],
      "metadata": {
        "colab": {
          "base_uri": "https://localhost:8080/"
        },
        "id": "th2atBwQ3q4c",
        "outputId": "9c4d6250-14d5-467c-d4da-5b8f0b3517fa"
      },
      "execution_count": 7,
      "outputs": [
        {
          "output_type": "stream",
          "name": "stdout",
          "text": [
            "3\n"
          ]
        }
      ]
    },
    {
      "cell_type": "code",
      "source": [
        "num_30 = list(range(30))\n",
        "print(num_30) #Prints Numbers 0-29\n"
      ],
      "metadata": {
        "colab": {
          "base_uri": "https://localhost:8080/"
        },
        "id": "xp4pUv2v4Esy",
        "outputId": "ccce76a4-4783-4b65-99aa-ad3d4d7438ff"
      },
      "execution_count": 8,
      "outputs": [
        {
          "output_type": "stream",
          "name": "stdout",
          "text": [
            "[0, 1, 2, 3, 4, 5, 6, 7, 8, 9, 10, 11, 12, 13, 14, 15, 16, 17, 18, 19, 20, 21, 22, 23, 24, 25, 26, 27, 28, 29]\n"
          ]
        }
      ]
    },
    {
      "cell_type": "code",
      "source": [
        "range_demo_list = list(range(7, 30, 5))\n",
        "print(range_demo_list) #Prints from 7-29 With 5 Increment"
      ],
      "metadata": {
        "colab": {
          "base_uri": "https://localhost:8080/"
        },
        "id": "aB0OngKY47mY",
        "outputId": "d88b67ac-c5a4-4997-831f-9b715b76efb2"
      },
      "execution_count": 9,
      "outputs": [
        {
          "output_type": "stream",
          "name": "stdout",
          "text": [
            "[7, 12, 17, 22, 27]\n"
          ]
        }
      ]
    },
    {
      "cell_type": "code",
      "source": [
        "print(min(10, 1, 0, -1)) #-1"
      ],
      "metadata": {
        "colab": {
          "base_uri": "https://localhost:8080/"
        },
        "id": "ijwL4SWi5UIt",
        "outputId": "b500ca14-a8ce-454b-9975-d76850bb955a"
      },
      "execution_count": 10,
      "outputs": [
        {
          "output_type": "stream",
          "name": "stdout",
          "text": [
            "-1\n"
          ]
        }
      ]
    },
    {
      "cell_type": "code",
      "source": [
        "print(min(\"Mani\", \"Ramya\")) #Mani"
      ],
      "metadata": {
        "colab": {
          "base_uri": "https://localhost:8080/"
        },
        "id": "gS6iuoF75q3M",
        "outputId": "f8f3cfe3-39a7-4800-8ec0-1a86172a18f4"
      },
      "execution_count": 11,
      "outputs": [
        {
          "output_type": "stream",
          "name": "stdout",
          "text": [
            "Mani\n"
          ]
        }
      ]
    },
    {
      "cell_type": "code",
      "source": [
        "print(max(10, 1, 0, -1)) #10"
      ],
      "metadata": {
        "colab": {
          "base_uri": "https://localhost:8080/"
        },
        "id": "yB_zIgQX53PZ",
        "outputId": "c9a1da3e-a869-44d5-a5d8-3d292522e791"
      },
      "execution_count": 12,
      "outputs": [
        {
          "output_type": "stream",
          "name": "stdout",
          "text": [
            "10\n"
          ]
        }
      ]
    },
    {
      "cell_type": "code",
      "source": [
        "print(max(\"Mani\", \"Ramya\")) #Ramya"
      ],
      "metadata": {
        "colab": {
          "base_uri": "https://localhost:8080/"
        },
        "id": "giYfJ86S6GtS",
        "outputId": "9d02af8d-198c-43cf-e9dc-a23eadba2815"
      },
      "execution_count": 13,
      "outputs": [
        {
          "output_type": "stream",
          "name": "stdout",
          "text": [
            "Ramya\n"
          ]
        }
      ]
    },
    {
      "cell_type": "code",
      "source": [
        "print(round(3.6)) #4"
      ],
      "metadata": {
        "colab": {
          "base_uri": "https://localhost:8080/"
        },
        "id": "8AMD4YGN6LQ_",
        "outputId": "b43ebe8f-78ba-4673-cbb3-b353dd896f5c"
      },
      "execution_count": 14,
      "outputs": [
        {
          "output_type": "stream",
          "name": "stdout",
          "text": [
            "4\n"
          ]
        }
      ]
    },
    {
      "cell_type": "code",
      "source": [
        "print(round(1.4)) #1"
      ],
      "metadata": {
        "colab": {
          "base_uri": "https://localhost:8080/"
        },
        "id": "h9Jnytnb6sEW",
        "outputId": "a8d53770-e0d9-4f62-fd68-e65eace7c523"
      },
      "execution_count": 15,
      "outputs": [
        {
          "output_type": "stream",
          "name": "stdout",
          "text": [
            "1\n"
          ]
        }
      ]
    },
    {
      "cell_type": "code",
      "source": [
        "print(round(1.5)) #2"
      ],
      "metadata": {
        "id": "nHKZCGon60Su",
        "outputId": "a73080f1-64cc-425b-9ad8-eb3a8801a1a6",
        "colab": {
          "base_uri": "https://localhost:8080/"
        }
      },
      "execution_count": 16,
      "outputs": [
        {
          "output_type": "stream",
          "name": "stdout",
          "text": [
            "2\n"
          ]
        }
      ]
    },
    {
      "cell_type": "code",
      "source": [
        "print(round(-1.2)) #-1"
      ],
      "metadata": {
        "colab": {
          "base_uri": "https://localhost:8080/"
        },
        "id": "SIHRNiY6Baz1",
        "outputId": "786dde84-0426-4316-e3e0-38df96eb8158"
      },
      "execution_count": 17,
      "outputs": [
        {
          "output_type": "stream",
          "name": "stdout",
          "text": [
            "-1\n"
          ]
        }
      ]
    },
    {
      "cell_type": "code",
      "source": [
        "print(abs(-100.5)) #Returns absolute number of given decimal number - 100"
      ],
      "metadata": {
        "colab": {
          "base_uri": "https://localhost:8080/"
        },
        "id": "FhbWioCuClBH",
        "outputId": "ab8464be-bd90-4f77-be9f-eab38c063512"
      },
      "execution_count": 18,
      "outputs": [
        {
          "output_type": "stream",
          "name": "stdout",
          "text": [
            "100.5\n"
          ]
        }
      ]
    },
    {
      "cell_type": "code",
      "source": [
        "print(pow(2, -3)) #0.125"
      ],
      "metadata": {
        "colab": {
          "base_uri": "https://localhost:8080/"
        },
        "id": "vBKwNAJ7CwN3",
        "outputId": "c99bdde6-82fc-44ea-96cc-60f635ca1585"
      },
      "execution_count": 19,
      "outputs": [
        {
          "output_type": "stream",
          "name": "stdout",
          "text": [
            "0.125\n"
          ]
        }
      ]
    },
    {
      "cell_type": "code",
      "source": [
        "pointsInGame = [0, -10, 15, -2, 1, 12]\n",
        "sortedGame = sorted(pointsInGame)\n",
        "print(sortedGame)"
      ],
      "metadata": {
        "colab": {
          "base_uri": "https://localhost:8080/"
        },
        "id": "mE8HWMTFDROB",
        "outputId": "dd7e54b7-2999-40db-dabf-3804ce04e234"
      },
      "execution_count": 20,
      "outputs": [
        {
          "output_type": "stream",
          "name": "stdout",
          "text": [
            "[-10, -2, 0, 1, 12, 15]\n"
          ]
        }
      ]
    },
    {
      "cell_type": "code",
      "source": [
        "childs = [\"Sue\", \"Jerry\", \"Linda\"]\n",
        "print(sorted(childs))"
      ],
      "metadata": {
        "colab": {
          "base_uri": "https://localhost:8080/"
        },
        "id": "qEPSH1MLD_Pd",
        "outputId": "9412c10e-acfb-445f-b911-d3f55e6c8109"
      },
      "execution_count": 21,
      "outputs": [
        {
          "output_type": "stream",
          "name": "stdout",
          "text": [
            "['Jerry', 'Linda', 'Sue']\n"
          ]
        }
      ]
    },
    {
      "cell_type": "code",
      "source": [
        "childs = [\"Sue\", \"jerry\", \"Linda\"]\n",
        "print(sorted(childs))"
      ],
      "metadata": {
        "colab": {
          "base_uri": "https://localhost:8080/"
        },
        "id": "z3tHY_1sEFFU",
        "outputId": "5b4abd4c-67fb-4376-da88-bd9c4e5d7ed4"
      },
      "execution_count": 22,
      "outputs": [
        {
          "output_type": "stream",
          "name": "stdout",
          "text": [
            "['Linda', 'Sue', 'jerry']\n"
          ]
        }
      ]
    },
    {
      "cell_type": "code",
      "source": [
        "print(sorted(childs, key = str.upper)) #Case Sensitive sorting"
      ],
      "metadata": {
        "colab": {
          "base_uri": "https://localhost:8080/"
        },
        "id": "R1P6FyADEM2j",
        "outputId": "23b98f14-9400-43bd-96dd-7f9f6981bf4f"
      },
      "execution_count": 23,
      "outputs": [
        {
          "output_type": "stream",
          "name": "stdout",
          "text": [
            "['jerry', 'Linda', 'Sue']\n"
          ]
        }
      ]
    },
    {
      "cell_type": "code",
      "source": [
        "print(sorted(pointsInGame, reverse = True)) #Reverse Sorting"
      ],
      "metadata": {
        "colab": {
          "base_uri": "https://localhost:8080/"
        },
        "id": "JnI6YfmwEcAU",
        "outputId": "3f7ae071-04f5-4f37-a2de-54d86cb381ed"
      },
      "execution_count": 24,
      "outputs": [
        {
          "output_type": "stream",
          "name": "stdout",
          "text": [
            "[15, 12, 1, 0, -2, -10]\n"
          ]
        }
      ]
    },
    {
      "cell_type": "code",
      "source": [
        "Leaderboard = {231:\"CKL\", 123:\"ABC\", 432:\"JKC\"}\n",
        "print(sorted(Leaderboard, reverse= True)) #Sorts keys"
      ],
      "metadata": {
        "colab": {
          "base_uri": "https://localhost:8080/"
        },
        "id": "L7fEGzsZEqnN",
        "outputId": "3959e33a-fb2d-40e1-f3a5-b85c02d7f027"
      },
      "execution_count": 25,
      "outputs": [
        {
          "output_type": "stream",
          "name": "stdout",
          "text": [
            "[432, 231, 123]\n"
          ]
        }
      ]
    },
    {
      "cell_type": "code",
      "source": [
        "students = [('alice','B', 20),('tae','A', 16), ('eliza', 'C',15)]\n",
        "print(sorted(students, key = lambda student: student[0])) #Sort by first entry in tuple\n",
        "print(sorted(students, key = lambda student: student[2])) #Sort by last entry in tuple i.e. age"
      ],
      "metadata": {
        "colab": {
          "base_uri": "https://localhost:8080/"
        },
        "id": "in4S87ANE4K1",
        "outputId": "d309fd6e-1769-4ced-c529-f15fe150d735"
      },
      "execution_count": 26,
      "outputs": [
        {
          "output_type": "stream",
          "name": "stdout",
          "text": [
            "[('alice', 'B', 20), ('eliza', 'C', 15), ('tae', 'A', 16)]\n",
            "[('eliza', 'C', 15), ('tae', 'A', 16), ('alice', 'B', 20)]\n"
          ]
        }
      ]
    },
    {
      "cell_type": "code",
      "source": [
        "print(type(students)) #<class 'list'>\n",
        "print(type(Leaderboard)) #<class 'dict'>\n",
        "print(type(range(0,30))) #<class 'range'>\n",
        "print(type(2)) #<class 'int'>\n",
        "print(type(\"apple\")) #<class 'str'>"
      ],
      "metadata": {
        "colab": {
          "base_uri": "https://localhost:8080/"
        },
        "id": "V4u4bn45FR4R",
        "outputId": "79c4bc6c-7d03-4566-86d1-17234378d3d2"
      },
      "execution_count": 27,
      "outputs": [
        {
          "output_type": "stream",
          "name": "stdout",
          "text": [
            "<class 'list'>\n",
            "<class 'dict'>\n",
            "<class 'range'>\n",
            "<class 'int'>\n",
            "<class 'str'>\n"
          ]
        }
      ]
    },
    {
      "cell_type": "code",
      "source": [
        "print(isinstance(students, list)) #True\n",
        "print(isinstance(Leaderboard, dict)) #True\n",
        "print(isinstance(range(0,30), range)) #True\n",
        "print(isinstance(2, int)) #True\n",
        "print(isinstance(\"apple\", str)) #True"
      ],
      "metadata": {
        "colab": {
          "base_uri": "https://localhost:8080/"
        },
        "id": "6DrvH_MKF3RU",
        "outputId": "68738f0c-a1af-45f2-8525-2df8357b9c15"
      },
      "execution_count": 28,
      "outputs": [
        {
          "output_type": "stream",
          "name": "stdout",
          "text": [
            "True\n",
            "True\n",
            "True\n",
            "True\n",
            "True\n"
          ]
        }
      ]
    },
    {
      "cell_type": "code",
      "source": [
        "class Car:\n",
        "  pass\n",
        "\n",
        "class Truck(Car):\n",
        "  pass\n",
        "\n",
        "c = Car()\n",
        "t = Truck()\n",
        "\n",
        "print(type(c)) #<class '__main__.Car'>\n",
        "print(type(t)) #<class '__main__.Truck'>\n",
        "print(type(c) == type(t)) #False\n",
        "print(isinstance(t, Truck)) #True\n",
        "print(isinstance(t, Car)) #True. Considers inheritance\n",
        "print(isinstance(c, Truck)) #False\n"
      ],
      "metadata": {
        "colab": {
          "base_uri": "https://localhost:8080/"
        },
        "id": "LoxqMYWgGAiJ",
        "outputId": "2af269cc-d2b6-4a4a-b6e1-a6409dbbd742"
      },
      "execution_count": 29,
      "outputs": [
        {
          "output_type": "stream",
          "name": "stdout",
          "text": [
            "<class '__main__.Car'>\n",
            "<class '__main__.Truck'>\n",
            "False\n",
            "True\n",
            "True\n",
            "False\n"
          ]
        }
      ]
    }
  ]
}